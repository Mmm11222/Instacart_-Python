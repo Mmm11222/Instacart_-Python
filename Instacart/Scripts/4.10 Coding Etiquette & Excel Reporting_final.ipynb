{
 "cells": [
  {
   "cell_type": "markdown",
   "id": "3f6c841d",
   "metadata": {},
   "source": [
    "# Table of Contents\n",
    "\n",
    "## Importing libraries\n",
    "## Importing data\n",
    "## Coding Etiquette & Excel Reporting_Part 1\n"
   ]
  },
  {
   "cell_type": "markdown",
   "id": "61947633",
   "metadata": {},
   "source": [
    "# Part 1"
   ]
  },
  {
   "cell_type": "code",
   "execution_count": 2,
   "id": "e4bdeb58",
   "metadata": {},
   "outputs": [],
   "source": [
    "# Import analysis and visualization libraries\n",
    "import pandas as pd\n",
    "import numpy as np\n",
    "import os\n",
    "import matplotlib.pyplot as plt\n",
    "import seaborn as sns\n",
    "import scipy"
   ]
  },
  {
   "cell_type": "markdown",
   "id": "f25e8ed8",
   "metadata": {},
   "source": [
    "## Answer 1"
   ]
  },
  {
   "cell_type": "code",
   "execution_count": 3,
   "id": "75c12b6f",
   "metadata": {},
   "outputs": [],
   "source": [
    "# Importing dataframe\n",
    "path = r\"C:\\Users\\Mafalda\\Documents\\mafalda\\Formação\\Data Analytics\\CareerFoundry\\Data Analytics Program\\2.Data Immersion\\Achievement 4\\Instacart Basket Analysis\""
   ]
  },
  {
   "cell_type": "code",
   "execution_count": 4,
   "id": "b9c15b2b",
   "metadata": {},
   "outputs": [],
   "source": [
    "df= pd.read_pickle(os.path.join(path, '02 Data', 'Prepared Data', 'instacard_basket_merged.pkl'))"
   ]
  },
  {
   "cell_type": "code",
   "execution_count": 5,
   "id": "e49973b2",
   "metadata": {},
   "outputs": [
    {
     "data": {
      "text/plain": [
       "(32434212, 34)"
      ]
     },
     "execution_count": 5,
     "metadata": {},
     "output_type": "execute_result"
    }
   ],
   "source": [
    "df.shape"
   ]
  },
  {
   "cell_type": "code",
   "execution_count": 6,
   "id": "e50bfea2",
   "metadata": {},
   "outputs": [
    {
     "data": {
      "text/html": [
       "<div>\n",
       "<style scoped>\n",
       "    .dataframe tbody tr th:only-of-type {\n",
       "        vertical-align: middle;\n",
       "    }\n",
       "\n",
       "    .dataframe tbody tr th {\n",
       "        vertical-align: top;\n",
       "    }\n",
       "\n",
       "    .dataframe thead th {\n",
       "        text-align: right;\n",
       "    }\n",
       "</style>\n",
       "<table border=\"1\" class=\"dataframe\">\n",
       "  <thead>\n",
       "    <tr style=\"text-align: right;\">\n",
       "      <th></th>\n",
       "      <th>user_id</th>\n",
       "      <th>last_name</th>\n",
       "      <th>gender</th>\n",
       "      <th>state</th>\n",
       "      <th>Age</th>\n",
       "      <th>date_joined</th>\n",
       "      <th>dependants</th>\n",
       "      <th>family_status</th>\n",
       "      <th>income</th>\n",
       "      <th>order_id</th>\n",
       "      <th>...</th>\n",
       "      <th>busiest_day</th>\n",
       "      <th>busiest_days</th>\n",
       "      <th>busiest_period_of_day</th>\n",
       "      <th>max_order</th>\n",
       "      <th>loyalty_flag</th>\n",
       "      <th>mean price</th>\n",
       "      <th>mean_price</th>\n",
       "      <th>Spending_flag</th>\n",
       "      <th>median_days_since_prior_order</th>\n",
       "      <th>Frequency_flag</th>\n",
       "    </tr>\n",
       "  </thead>\n",
       "  <tbody>\n",
       "    <tr>\n",
       "      <th>0</th>\n",
       "      <td>26711</td>\n",
       "      <td>Esquivel</td>\n",
       "      <td>Female</td>\n",
       "      <td>Missouri</td>\n",
       "      <td>48</td>\n",
       "      <td>1/1/2017</td>\n",
       "      <td>3</td>\n",
       "      <td>married</td>\n",
       "      <td>165665</td>\n",
       "      <td>2543867</td>\n",
       "      <td>...</td>\n",
       "      <td>Regularly busy</td>\n",
       "      <td>Second Busiest day</td>\n",
       "      <td>Most oders</td>\n",
       "      <td>8</td>\n",
       "      <td>New customer</td>\n",
       "      <td>7.988889</td>\n",
       "      <td>7.988889</td>\n",
       "      <td>Low Spender</td>\n",
       "      <td>19.0</td>\n",
       "      <td>Regular customer\"</td>\n",
       "    </tr>\n",
       "    <tr>\n",
       "      <th>1</th>\n",
       "      <td>26711</td>\n",
       "      <td>Esquivel</td>\n",
       "      <td>Female</td>\n",
       "      <td>Missouri</td>\n",
       "      <td>48</td>\n",
       "      <td>1/1/2017</td>\n",
       "      <td>3</td>\n",
       "      <td>married</td>\n",
       "      <td>165665</td>\n",
       "      <td>1285508</td>\n",
       "      <td>...</td>\n",
       "      <td>Regularly busy</td>\n",
       "      <td>Regularly busy</td>\n",
       "      <td>Most oders</td>\n",
       "      <td>8</td>\n",
       "      <td>New customer</td>\n",
       "      <td>7.988889</td>\n",
       "      <td>7.988889</td>\n",
       "      <td>Low Spender</td>\n",
       "      <td>19.0</td>\n",
       "      <td>Regular customer\"</td>\n",
       "    </tr>\n",
       "    <tr>\n",
       "      <th>2</th>\n",
       "      <td>26711</td>\n",
       "      <td>Esquivel</td>\n",
       "      <td>Female</td>\n",
       "      <td>Missouri</td>\n",
       "      <td>48</td>\n",
       "      <td>1/1/2017</td>\n",
       "      <td>3</td>\n",
       "      <td>married</td>\n",
       "      <td>165665</td>\n",
       "      <td>2578584</td>\n",
       "      <td>...</td>\n",
       "      <td>Regularly busy</td>\n",
       "      <td>Second Busiest day</td>\n",
       "      <td>Most oders</td>\n",
       "      <td>8</td>\n",
       "      <td>New customer</td>\n",
       "      <td>7.988889</td>\n",
       "      <td>7.988889</td>\n",
       "      <td>Low Spender</td>\n",
       "      <td>19.0</td>\n",
       "      <td>Regular customer\"</td>\n",
       "    </tr>\n",
       "    <tr>\n",
       "      <th>3</th>\n",
       "      <td>26711</td>\n",
       "      <td>Esquivel</td>\n",
       "      <td>Female</td>\n",
       "      <td>Missouri</td>\n",
       "      <td>48</td>\n",
       "      <td>1/1/2017</td>\n",
       "      <td>3</td>\n",
       "      <td>married</td>\n",
       "      <td>165665</td>\n",
       "      <td>423547</td>\n",
       "      <td>...</td>\n",
       "      <td>Regularly busy</td>\n",
       "      <td>Regularly busy</td>\n",
       "      <td>Most oders</td>\n",
       "      <td>8</td>\n",
       "      <td>New customer</td>\n",
       "      <td>7.988889</td>\n",
       "      <td>7.988889</td>\n",
       "      <td>Low Spender</td>\n",
       "      <td>19.0</td>\n",
       "      <td>Regular customer\"</td>\n",
       "    </tr>\n",
       "    <tr>\n",
       "      <th>4</th>\n",
       "      <td>26711</td>\n",
       "      <td>Esquivel</td>\n",
       "      <td>Female</td>\n",
       "      <td>Missouri</td>\n",
       "      <td>48</td>\n",
       "      <td>1/1/2017</td>\n",
       "      <td>3</td>\n",
       "      <td>married</td>\n",
       "      <td>165665</td>\n",
       "      <td>2524893</td>\n",
       "      <td>...</td>\n",
       "      <td>Regularly busy</td>\n",
       "      <td>Least busy</td>\n",
       "      <td>Most oders</td>\n",
       "      <td>8</td>\n",
       "      <td>New customer</td>\n",
       "      <td>7.988889</td>\n",
       "      <td>7.988889</td>\n",
       "      <td>Low Spender</td>\n",
       "      <td>19.0</td>\n",
       "      <td>Regular customer\"</td>\n",
       "    </tr>\n",
       "  </tbody>\n",
       "</table>\n",
       "<p>5 rows × 34 columns</p>\n",
       "</div>"
      ],
      "text/plain": [
       "   user_id last_name  gender     state  Age date_joined  dependants  \\\n",
       "0    26711  Esquivel  Female  Missouri   48    1/1/2017           3   \n",
       "1    26711  Esquivel  Female  Missouri   48    1/1/2017           3   \n",
       "2    26711  Esquivel  Female  Missouri   48    1/1/2017           3   \n",
       "3    26711  Esquivel  Female  Missouri   48    1/1/2017           3   \n",
       "4    26711  Esquivel  Female  Missouri   48    1/1/2017           3   \n",
       "\n",
       "  family_status  income  order_id  ...     busiest_day        busiest_days  \\\n",
       "0       married  165665   2543867  ...  Regularly busy  Second Busiest day   \n",
       "1       married  165665   1285508  ...  Regularly busy      Regularly busy   \n",
       "2       married  165665   2578584  ...  Regularly busy  Second Busiest day   \n",
       "3       married  165665    423547  ...  Regularly busy      Regularly busy   \n",
       "4       married  165665   2524893  ...  Regularly busy          Least busy   \n",
       "\n",
       "   busiest_period_of_day  max_order  loyalty_flag  mean price  mean_price  \\\n",
       "0             Most oders          8  New customer    7.988889    7.988889   \n",
       "1             Most oders          8  New customer    7.988889    7.988889   \n",
       "2             Most oders          8  New customer    7.988889    7.988889   \n",
       "3             Most oders          8  New customer    7.988889    7.988889   \n",
       "4             Most oders          8  New customer    7.988889    7.988889   \n",
       "\n",
       "   Spending_flag median_days_since_prior_order     Frequency_flag  \n",
       "0    Low Spender                          19.0  Regular customer\"  \n",
       "1    Low Spender                          19.0  Regular customer\"  \n",
       "2    Low Spender                          19.0  Regular customer\"  \n",
       "3    Low Spender                          19.0  Regular customer\"  \n",
       "4    Low Spender                          19.0  Regular customer\"  \n",
       "\n",
       "[5 rows x 34 columns]"
      ]
     },
     "execution_count": 6,
     "metadata": {},
     "output_type": "execute_result"
    }
   ],
   "source": [
    "df.head()"
   ]
  },
  {
   "cell_type": "markdown",
   "id": "6593d86d",
   "metadata": {},
   "source": [
    "## Answer 2"
   ]
  },
  {
   "cell_type": "markdown",
   "id": "1f7b9157",
   "metadata": {},
   "source": [
    "#### There is some PII information in this dataframe like the client last name. Since it is of no relevance for the analysis so far, it it preferable that it is removed form the dataframe for security issues."
   ]
  },
  {
   "cell_type": "code",
   "execution_count": 7,
   "id": "c5802efd",
   "metadata": {},
   "outputs": [],
   "source": [
    "# removing the last_name column from the dataframe\n",
    "df2 = df.drop(columns = ['last_name'])"
   ]
  },
  {
   "cell_type": "code",
   "execution_count": 8,
   "id": "bd434a83",
   "metadata": {},
   "outputs": [
    {
     "data": {
      "text/plain": [
       "(32434212, 33)"
      ]
     },
     "execution_count": 8,
     "metadata": {},
     "output_type": "execute_result"
    }
   ],
   "source": [
    "df2.shape"
   ]
  },
  {
   "cell_type": "code",
   "execution_count": 9,
   "id": "bc2d0e05",
   "metadata": {},
   "outputs": [
    {
     "data": {
      "text/html": [
       "<div>\n",
       "<style scoped>\n",
       "    .dataframe tbody tr th:only-of-type {\n",
       "        vertical-align: middle;\n",
       "    }\n",
       "\n",
       "    .dataframe tbody tr th {\n",
       "        vertical-align: top;\n",
       "    }\n",
       "\n",
       "    .dataframe thead th {\n",
       "        text-align: right;\n",
       "    }\n",
       "</style>\n",
       "<table border=\"1\" class=\"dataframe\">\n",
       "  <thead>\n",
       "    <tr style=\"text-align: right;\">\n",
       "      <th></th>\n",
       "      <th>user_id</th>\n",
       "      <th>gender</th>\n",
       "      <th>state</th>\n",
       "      <th>Age</th>\n",
       "      <th>date_joined</th>\n",
       "      <th>dependants</th>\n",
       "      <th>family_status</th>\n",
       "      <th>income</th>\n",
       "      <th>order_id</th>\n",
       "      <th>eval_set</th>\n",
       "      <th>...</th>\n",
       "      <th>busiest_day</th>\n",
       "      <th>busiest_days</th>\n",
       "      <th>busiest_period_of_day</th>\n",
       "      <th>max_order</th>\n",
       "      <th>loyalty_flag</th>\n",
       "      <th>mean price</th>\n",
       "      <th>mean_price</th>\n",
       "      <th>Spending_flag</th>\n",
       "      <th>median_days_since_prior_order</th>\n",
       "      <th>Frequency_flag</th>\n",
       "    </tr>\n",
       "  </thead>\n",
       "  <tbody>\n",
       "    <tr>\n",
       "      <th>0</th>\n",
       "      <td>26711</td>\n",
       "      <td>Female</td>\n",
       "      <td>Missouri</td>\n",
       "      <td>48</td>\n",
       "      <td>1/1/2017</td>\n",
       "      <td>3</td>\n",
       "      <td>married</td>\n",
       "      <td>165665</td>\n",
       "      <td>2543867</td>\n",
       "      <td>prior</td>\n",
       "      <td>...</td>\n",
       "      <td>Regularly busy</td>\n",
       "      <td>Second Busiest day</td>\n",
       "      <td>Most oders</td>\n",
       "      <td>8</td>\n",
       "      <td>New customer</td>\n",
       "      <td>7.988889</td>\n",
       "      <td>7.988889</td>\n",
       "      <td>Low Spender</td>\n",
       "      <td>19.0</td>\n",
       "      <td>Regular customer\"</td>\n",
       "    </tr>\n",
       "    <tr>\n",
       "      <th>1</th>\n",
       "      <td>26711</td>\n",
       "      <td>Female</td>\n",
       "      <td>Missouri</td>\n",
       "      <td>48</td>\n",
       "      <td>1/1/2017</td>\n",
       "      <td>3</td>\n",
       "      <td>married</td>\n",
       "      <td>165665</td>\n",
       "      <td>1285508</td>\n",
       "      <td>prior</td>\n",
       "      <td>...</td>\n",
       "      <td>Regularly busy</td>\n",
       "      <td>Regularly busy</td>\n",
       "      <td>Most oders</td>\n",
       "      <td>8</td>\n",
       "      <td>New customer</td>\n",
       "      <td>7.988889</td>\n",
       "      <td>7.988889</td>\n",
       "      <td>Low Spender</td>\n",
       "      <td>19.0</td>\n",
       "      <td>Regular customer\"</td>\n",
       "    </tr>\n",
       "    <tr>\n",
       "      <th>2</th>\n",
       "      <td>26711</td>\n",
       "      <td>Female</td>\n",
       "      <td>Missouri</td>\n",
       "      <td>48</td>\n",
       "      <td>1/1/2017</td>\n",
       "      <td>3</td>\n",
       "      <td>married</td>\n",
       "      <td>165665</td>\n",
       "      <td>2578584</td>\n",
       "      <td>prior</td>\n",
       "      <td>...</td>\n",
       "      <td>Regularly busy</td>\n",
       "      <td>Second Busiest day</td>\n",
       "      <td>Most oders</td>\n",
       "      <td>8</td>\n",
       "      <td>New customer</td>\n",
       "      <td>7.988889</td>\n",
       "      <td>7.988889</td>\n",
       "      <td>Low Spender</td>\n",
       "      <td>19.0</td>\n",
       "      <td>Regular customer\"</td>\n",
       "    </tr>\n",
       "    <tr>\n",
       "      <th>3</th>\n",
       "      <td>26711</td>\n",
       "      <td>Female</td>\n",
       "      <td>Missouri</td>\n",
       "      <td>48</td>\n",
       "      <td>1/1/2017</td>\n",
       "      <td>3</td>\n",
       "      <td>married</td>\n",
       "      <td>165665</td>\n",
       "      <td>423547</td>\n",
       "      <td>prior</td>\n",
       "      <td>...</td>\n",
       "      <td>Regularly busy</td>\n",
       "      <td>Regularly busy</td>\n",
       "      <td>Most oders</td>\n",
       "      <td>8</td>\n",
       "      <td>New customer</td>\n",
       "      <td>7.988889</td>\n",
       "      <td>7.988889</td>\n",
       "      <td>Low Spender</td>\n",
       "      <td>19.0</td>\n",
       "      <td>Regular customer\"</td>\n",
       "    </tr>\n",
       "    <tr>\n",
       "      <th>4</th>\n",
       "      <td>26711</td>\n",
       "      <td>Female</td>\n",
       "      <td>Missouri</td>\n",
       "      <td>48</td>\n",
       "      <td>1/1/2017</td>\n",
       "      <td>3</td>\n",
       "      <td>married</td>\n",
       "      <td>165665</td>\n",
       "      <td>2524893</td>\n",
       "      <td>prior</td>\n",
       "      <td>...</td>\n",
       "      <td>Regularly busy</td>\n",
       "      <td>Least busy</td>\n",
       "      <td>Most oders</td>\n",
       "      <td>8</td>\n",
       "      <td>New customer</td>\n",
       "      <td>7.988889</td>\n",
       "      <td>7.988889</td>\n",
       "      <td>Low Spender</td>\n",
       "      <td>19.0</td>\n",
       "      <td>Regular customer\"</td>\n",
       "    </tr>\n",
       "  </tbody>\n",
       "</table>\n",
       "<p>5 rows × 33 columns</p>\n",
       "</div>"
      ],
      "text/plain": [
       "   user_id  gender     state  Age date_joined  dependants family_status  \\\n",
       "0    26711  Female  Missouri   48    1/1/2017           3       married   \n",
       "1    26711  Female  Missouri   48    1/1/2017           3       married   \n",
       "2    26711  Female  Missouri   48    1/1/2017           3       married   \n",
       "3    26711  Female  Missouri   48    1/1/2017           3       married   \n",
       "4    26711  Female  Missouri   48    1/1/2017           3       married   \n",
       "\n",
       "   income  order_id eval_set  ...     busiest_day        busiest_days  \\\n",
       "0  165665   2543867    prior  ...  Regularly busy  Second Busiest day   \n",
       "1  165665   1285508    prior  ...  Regularly busy      Regularly busy   \n",
       "2  165665   2578584    prior  ...  Regularly busy  Second Busiest day   \n",
       "3  165665    423547    prior  ...  Regularly busy      Regularly busy   \n",
       "4  165665   2524893    prior  ...  Regularly busy          Least busy   \n",
       "\n",
       "   busiest_period_of_day  max_order  loyalty_flag  mean price  mean_price  \\\n",
       "0             Most oders          8  New customer    7.988889    7.988889   \n",
       "1             Most oders          8  New customer    7.988889    7.988889   \n",
       "2             Most oders          8  New customer    7.988889    7.988889   \n",
       "3             Most oders          8  New customer    7.988889    7.988889   \n",
       "4             Most oders          8  New customer    7.988889    7.988889   \n",
       "\n",
       "  Spending_flag median_days_since_prior_order     Frequency_flag  \n",
       "0   Low Spender                          19.0  Regular customer\"  \n",
       "1   Low Spender                          19.0  Regular customer\"  \n",
       "2   Low Spender                          19.0  Regular customer\"  \n",
       "3   Low Spender                          19.0  Regular customer\"  \n",
       "4   Low Spender                          19.0  Regular customer\"  \n",
       "\n",
       "[5 rows x 33 columns]"
      ]
     },
     "execution_count": 9,
     "metadata": {},
     "output_type": "execute_result"
    }
   ],
   "source": [
    "df2.head()"
   ]
  },
  {
   "cell_type": "markdown",
   "id": "d4dccbcf",
   "metadata": {},
   "source": [
    "# Answer 3"
   ]
  },
  {
   "cell_type": "code",
   "execution_count": 10,
   "id": "610cea58",
   "metadata": {},
   "outputs": [
    {
     "name": "stderr",
     "output_type": "stream",
     "text": [
      "C:\\Users\\Mafalda\\AppData\\Local\\Temp\\ipykernel_13704\\3970838963.py:2: FutureWarning: Setting an item of incompatible dtype is deprecated and will raise in a future error of pandas. Value 'Northeast' has dtype incompatible with float64, please explicitly cast to a compatible dtype first.\n",
      "  df2.loc[df2['state'].isin(['Maine','New Hampshire','Vermont','Massachusetts','Rhode Island','Connecticut','New York','Pennsylvania','New Jersey']), 'region'] = 'Northeast'\n"
     ]
    }
   ],
   "source": [
    "# Creating a Region column based on state column\n",
    "df2.loc[df2['state'].isin(['Maine','New Hampshire','Vermont','Massachusetts','Rhode Island','Connecticut','New York','Pennsylvania','New Jersey']), 'region'] = 'Northeast'\n",
    "df2.loc[df2['state'].isin(['Wisconsin','Michigan','Illinois','Indiana','Ohio','North Dakota','South Dakota','Kansas','Minnesota','Iowa','Missouri']), 'region'] = 'Midwest'\n",
    "df2.loc[df2['state'].isin(['Delaware','Mayrland','District of Cloumbia','Virginia','West Virginia','North Carolina','South Carolina','Georgia','Florida','Kentucky','Tennessee','Mississippi','Alabama','Oklahoma','Texas','Arkansas','Louisiana']), 'region'] = 'South'\n",
    "df2.loc[df2['state'].isin(['Idaho','Montana','Wyoming','Nevada','Utah','Colorado','Arizona','New Mexico','Alaska','Washington','Oregon','California','Hawaii']), 'region'] = 'West'"
   ]
  },
  {
   "cell_type": "code",
   "execution_count": 11,
   "id": "cfcf101f",
   "metadata": {},
   "outputs": [
    {
     "data": {
      "text/html": [
       "<div>\n",
       "<style scoped>\n",
       "    .dataframe tbody tr th:only-of-type {\n",
       "        vertical-align: middle;\n",
       "    }\n",
       "\n",
       "    .dataframe tbody tr th {\n",
       "        vertical-align: top;\n",
       "    }\n",
       "\n",
       "    .dataframe thead th {\n",
       "        text-align: right;\n",
       "    }\n",
       "</style>\n",
       "<table border=\"1\" class=\"dataframe\">\n",
       "  <thead>\n",
       "    <tr style=\"text-align: right;\">\n",
       "      <th></th>\n",
       "      <th>user_id</th>\n",
       "      <th>gender</th>\n",
       "      <th>state</th>\n",
       "      <th>Age</th>\n",
       "      <th>date_joined</th>\n",
       "      <th>dependants</th>\n",
       "      <th>family_status</th>\n",
       "      <th>income</th>\n",
       "      <th>order_id</th>\n",
       "      <th>eval_set</th>\n",
       "      <th>...</th>\n",
       "      <th>busiest_days</th>\n",
       "      <th>busiest_period_of_day</th>\n",
       "      <th>max_order</th>\n",
       "      <th>loyalty_flag</th>\n",
       "      <th>mean price</th>\n",
       "      <th>mean_price</th>\n",
       "      <th>Spending_flag</th>\n",
       "      <th>median_days_since_prior_order</th>\n",
       "      <th>Frequency_flag</th>\n",
       "      <th>region</th>\n",
       "    </tr>\n",
       "  </thead>\n",
       "  <tbody>\n",
       "    <tr>\n",
       "      <th>0</th>\n",
       "      <td>26711</td>\n",
       "      <td>Female</td>\n",
       "      <td>Missouri</td>\n",
       "      <td>48</td>\n",
       "      <td>1/1/2017</td>\n",
       "      <td>3</td>\n",
       "      <td>married</td>\n",
       "      <td>165665</td>\n",
       "      <td>2543867</td>\n",
       "      <td>prior</td>\n",
       "      <td>...</td>\n",
       "      <td>Second Busiest day</td>\n",
       "      <td>Most oders</td>\n",
       "      <td>8</td>\n",
       "      <td>New customer</td>\n",
       "      <td>7.988889</td>\n",
       "      <td>7.988889</td>\n",
       "      <td>Low Spender</td>\n",
       "      <td>19.0</td>\n",
       "      <td>Regular customer\"</td>\n",
       "      <td>Midwest</td>\n",
       "    </tr>\n",
       "    <tr>\n",
       "      <th>1</th>\n",
       "      <td>26711</td>\n",
       "      <td>Female</td>\n",
       "      <td>Missouri</td>\n",
       "      <td>48</td>\n",
       "      <td>1/1/2017</td>\n",
       "      <td>3</td>\n",
       "      <td>married</td>\n",
       "      <td>165665</td>\n",
       "      <td>1285508</td>\n",
       "      <td>prior</td>\n",
       "      <td>...</td>\n",
       "      <td>Regularly busy</td>\n",
       "      <td>Most oders</td>\n",
       "      <td>8</td>\n",
       "      <td>New customer</td>\n",
       "      <td>7.988889</td>\n",
       "      <td>7.988889</td>\n",
       "      <td>Low Spender</td>\n",
       "      <td>19.0</td>\n",
       "      <td>Regular customer\"</td>\n",
       "      <td>Midwest</td>\n",
       "    </tr>\n",
       "    <tr>\n",
       "      <th>2</th>\n",
       "      <td>26711</td>\n",
       "      <td>Female</td>\n",
       "      <td>Missouri</td>\n",
       "      <td>48</td>\n",
       "      <td>1/1/2017</td>\n",
       "      <td>3</td>\n",
       "      <td>married</td>\n",
       "      <td>165665</td>\n",
       "      <td>2578584</td>\n",
       "      <td>prior</td>\n",
       "      <td>...</td>\n",
       "      <td>Second Busiest day</td>\n",
       "      <td>Most oders</td>\n",
       "      <td>8</td>\n",
       "      <td>New customer</td>\n",
       "      <td>7.988889</td>\n",
       "      <td>7.988889</td>\n",
       "      <td>Low Spender</td>\n",
       "      <td>19.0</td>\n",
       "      <td>Regular customer\"</td>\n",
       "      <td>Midwest</td>\n",
       "    </tr>\n",
       "    <tr>\n",
       "      <th>3</th>\n",
       "      <td>26711</td>\n",
       "      <td>Female</td>\n",
       "      <td>Missouri</td>\n",
       "      <td>48</td>\n",
       "      <td>1/1/2017</td>\n",
       "      <td>3</td>\n",
       "      <td>married</td>\n",
       "      <td>165665</td>\n",
       "      <td>423547</td>\n",
       "      <td>prior</td>\n",
       "      <td>...</td>\n",
       "      <td>Regularly busy</td>\n",
       "      <td>Most oders</td>\n",
       "      <td>8</td>\n",
       "      <td>New customer</td>\n",
       "      <td>7.988889</td>\n",
       "      <td>7.988889</td>\n",
       "      <td>Low Spender</td>\n",
       "      <td>19.0</td>\n",
       "      <td>Regular customer\"</td>\n",
       "      <td>Midwest</td>\n",
       "    </tr>\n",
       "    <tr>\n",
       "      <th>4</th>\n",
       "      <td>26711</td>\n",
       "      <td>Female</td>\n",
       "      <td>Missouri</td>\n",
       "      <td>48</td>\n",
       "      <td>1/1/2017</td>\n",
       "      <td>3</td>\n",
       "      <td>married</td>\n",
       "      <td>165665</td>\n",
       "      <td>2524893</td>\n",
       "      <td>prior</td>\n",
       "      <td>...</td>\n",
       "      <td>Least busy</td>\n",
       "      <td>Most oders</td>\n",
       "      <td>8</td>\n",
       "      <td>New customer</td>\n",
       "      <td>7.988889</td>\n",
       "      <td>7.988889</td>\n",
       "      <td>Low Spender</td>\n",
       "      <td>19.0</td>\n",
       "      <td>Regular customer\"</td>\n",
       "      <td>Midwest</td>\n",
       "    </tr>\n",
       "  </tbody>\n",
       "</table>\n",
       "<p>5 rows × 34 columns</p>\n",
       "</div>"
      ],
      "text/plain": [
       "   user_id  gender     state  Age date_joined  dependants family_status  \\\n",
       "0    26711  Female  Missouri   48    1/1/2017           3       married   \n",
       "1    26711  Female  Missouri   48    1/1/2017           3       married   \n",
       "2    26711  Female  Missouri   48    1/1/2017           3       married   \n",
       "3    26711  Female  Missouri   48    1/1/2017           3       married   \n",
       "4    26711  Female  Missouri   48    1/1/2017           3       married   \n",
       "\n",
       "   income  order_id eval_set  ...        busiest_days  busiest_period_of_day  \\\n",
       "0  165665   2543867    prior  ...  Second Busiest day             Most oders   \n",
       "1  165665   1285508    prior  ...      Regularly busy             Most oders   \n",
       "2  165665   2578584    prior  ...  Second Busiest day             Most oders   \n",
       "3  165665    423547    prior  ...      Regularly busy             Most oders   \n",
       "4  165665   2524893    prior  ...          Least busy             Most oders   \n",
       "\n",
       "   max_order  loyalty_flag  mean price  mean_price  Spending_flag  \\\n",
       "0          8  New customer    7.988889    7.988889    Low Spender   \n",
       "1          8  New customer    7.988889    7.988889    Low Spender   \n",
       "2          8  New customer    7.988889    7.988889    Low Spender   \n",
       "3          8  New customer    7.988889    7.988889    Low Spender   \n",
       "4          8  New customer    7.988889    7.988889    Low Spender   \n",
       "\n",
       "  median_days_since_prior_order     Frequency_flag   region  \n",
       "0                          19.0  Regular customer\"  Midwest  \n",
       "1                          19.0  Regular customer\"  Midwest  \n",
       "2                          19.0  Regular customer\"  Midwest  \n",
       "3                          19.0  Regular customer\"  Midwest  \n",
       "4                          19.0  Regular customer\"  Midwest  \n",
       "\n",
       "[5 rows x 34 columns]"
      ]
     },
     "execution_count": 11,
     "metadata": {},
     "output_type": "execute_result"
    }
   ],
   "source": [
    "df2.head()"
   ]
  },
  {
   "cell_type": "code",
   "execution_count": 12,
   "id": "69b325a5",
   "metadata": {},
   "outputs": [
    {
     "data": {
      "text/plain": [
       "region\n",
       "South        9560039\n",
       "West         8300445\n",
       "Midwest      6977513\n",
       "Northeast    5728347\n",
       "Name: count, dtype: int64"
      ]
     },
     "execution_count": 12,
     "metadata": {},
     "output_type": "execute_result"
    }
   ],
   "source": [
    "df2['region'].value_counts()"
   ]
  },
  {
   "cell_type": "code",
   "execution_count": 13,
   "id": "0b334c53",
   "metadata": {},
   "outputs": [],
   "source": [
    "# Creating a crosstab  region with the spending flag\n",
    "crosstab = pd.crosstab(df2['region'],df2['Spending_flag'], dropna = False)\n"
   ]
  },
  {
   "cell_type": "code",
   "execution_count": 14,
   "id": "edd2e81c",
   "metadata": {},
   "outputs": [
    {
     "data": {
      "text/html": [
       "<div>\n",
       "<style scoped>\n",
       "    .dataframe tbody tr th:only-of-type {\n",
       "        vertical-align: middle;\n",
       "    }\n",
       "\n",
       "    .dataframe tbody tr th {\n",
       "        vertical-align: top;\n",
       "    }\n",
       "\n",
       "    .dataframe thead th {\n",
       "        text-align: right;\n",
       "    }\n",
       "</style>\n",
       "<table border=\"1\" class=\"dataframe\">\n",
       "  <thead>\n",
       "    <tr style=\"text-align: right;\">\n",
       "      <th>Spending_flag</th>\n",
       "      <th>High spender</th>\n",
       "      <th>Low Spender</th>\n",
       "    </tr>\n",
       "    <tr>\n",
       "      <th>region</th>\n",
       "      <th></th>\n",
       "      <th></th>\n",
       "    </tr>\n",
       "  </thead>\n",
       "  <tbody>\n",
       "    <tr>\n",
       "      <th>Midwest</th>\n",
       "      <td>142077</td>\n",
       "      <td>6835436</td>\n",
       "    </tr>\n",
       "    <tr>\n",
       "      <th>Northeast</th>\n",
       "      <td>108343</td>\n",
       "      <td>5620004</td>\n",
       "    </tr>\n",
       "    <tr>\n",
       "      <th>South</th>\n",
       "      <td>185712</td>\n",
       "      <td>9374327</td>\n",
       "    </tr>\n",
       "    <tr>\n",
       "      <th>West</th>\n",
       "      <td>160807</td>\n",
       "      <td>8139638</td>\n",
       "    </tr>\n",
       "    <tr>\n",
       "      <th>NaN</th>\n",
       "      <td>38522</td>\n",
       "      <td>1829346</td>\n",
       "    </tr>\n",
       "  </tbody>\n",
       "</table>\n",
       "</div>"
      ],
      "text/plain": [
       "Spending_flag  High spender  Low Spender\n",
       "region                                  \n",
       "Midwest              142077      6835436\n",
       "Northeast            108343      5620004\n",
       "South                185712      9374327\n",
       "West                 160807      8139638\n",
       "NaN                   38522      1829346"
      ]
     },
     "execution_count": 14,
     "metadata": {},
     "output_type": "execute_result"
    }
   ],
   "source": [
    "crosstab"
   ]
  },
  {
   "cell_type": "markdown",
   "id": "af18e89d",
   "metadata": {},
   "source": [
    "#### There no diferences in spendong habits across regions"
   ]
  },
  {
   "cell_type": "markdown",
   "id": "d8089edb",
   "metadata": {},
   "source": [
    "# Answer 4"
   ]
  },
  {
   "cell_type": "code",
   "execution_count": 15,
   "id": "d1a53709",
   "metadata": {},
   "outputs": [
    {
     "name": "stderr",
     "output_type": "stream",
     "text": [
      "C:\\Users\\Mafalda\\AppData\\Local\\Temp\\ipykernel_13704\\2657705797.py:2: FutureWarning: Setting an item of incompatible dtype is deprecated and will raise in a future error of pandas. Value 'High' has dtype incompatible with float64, please explicitly cast to a compatible dtype first.\n",
      "  df2.loc[df2['max_order'] >= 5, 'activity_flag'] = 'High'\n"
     ]
    }
   ],
   "source": [
    "# Creating an exclusion flag for low-activity customers\n",
    "df2.loc[df2['max_order'] >= 5, 'activity_flag'] = 'High'\n",
    "df2.loc[df2['max_order'] < 5, 'activity_flag'] = 'Low'"
   ]
  },
  {
   "cell_type": "code",
   "execution_count": 16,
   "id": "3da7aa3c",
   "metadata": {},
   "outputs": [
    {
     "data": {
      "text/plain": [
       "activity_flag\n",
       "High    30992664\n",
       "Low      1441548\n",
       "Name: count, dtype: int64"
      ]
     },
     "execution_count": 16,
     "metadata": {},
     "output_type": "execute_result"
    }
   ],
   "source": [
    "df2['activity_flag'].value_counts(dropna=False)"
   ]
  },
  {
   "cell_type": "code",
   "execution_count": 17,
   "id": "4c653dde",
   "metadata": {},
   "outputs": [],
   "source": [
    "# Creating a subset of dataframe containing high activity customers\n",
    "df_high = df2[df2['activity_flag'] =='High']"
   ]
  },
  {
   "cell_type": "code",
   "execution_count": 18,
   "id": "ed69539c",
   "metadata": {},
   "outputs": [
    {
     "data": {
      "text/plain": [
       "(30992664, 35)"
      ]
     },
     "execution_count": 18,
     "metadata": {},
     "output_type": "execute_result"
    }
   ],
   "source": [
    "df_high. shape"
   ]
  },
  {
   "cell_type": "code",
   "execution_count": 19,
   "id": "97d6bce0",
   "metadata": {},
   "outputs": [
    {
     "data": {
      "text/plain": [
       "<bound method NDFrame.head of           user_id  gender     state  Age date_joined  dependants  \\\n",
       "0           26711  Female  Missouri   48    1/1/2017           3   \n",
       "1           26711  Female  Missouri   48    1/1/2017           3   \n",
       "2           26711  Female  Missouri   48    1/1/2017           3   \n",
       "3           26711  Female  Missouri   48    1/1/2017           3   \n",
       "4           26711  Female  Missouri   48    1/1/2017           3   \n",
       "...           ...     ...       ...  ...         ...         ...   \n",
       "32434166   135902  Female  Missouri   66    4/1/2020           2   \n",
       "32434167   135902  Female  Missouri   66    4/1/2020           2   \n",
       "32434168   135902  Female  Missouri   66    4/1/2020           2   \n",
       "32434169   135902  Female  Missouri   66    4/1/2020           2   \n",
       "32434170   135902  Female  Missouri   66    4/1/2020           2   \n",
       "\n",
       "         family_status  income  order_id eval_set  ...  busiest_period_of_day  \\\n",
       "0              married  165665   2543867    prior  ...             Most oders   \n",
       "1              married  165665   1285508    prior  ...             Most oders   \n",
       "2              married  165665   2578584    prior  ...             Most oders   \n",
       "3              married  165665    423547    prior  ...             Most oders   \n",
       "4              married  165665   2524893    prior  ...             Most oders   \n",
       "...                ...     ...       ...      ...  ...                    ...   \n",
       "32434166       married   53374    974951    prior  ...         Average orders   \n",
       "32434167       married   53374    628984    prior  ...             Most oders   \n",
       "32434168       married   53374   1157983    prior  ...             Most oders   \n",
       "32434169       married   53374   2498530    prior  ...         Average orders   \n",
       "32434170       married   53374   1104840    prior  ...             Most oders   \n",
       "\n",
       "          max_order  loyalty_flag  mean price  mean_price  Spending_flag  \\\n",
       "0                 8  New customer    7.988889    7.988889    Low Spender   \n",
       "1                 8  New customer    7.988889    7.988889    Low Spender   \n",
       "2                 8  New customer    7.988889    7.988889    Low Spender   \n",
       "3                 8  New customer    7.988889    7.988889    Low Spender   \n",
       "4                 8  New customer    7.988889    7.988889    Low Spender   \n",
       "...             ...           ...         ...         ...            ...   \n",
       "32434166          8  New customer    6.960345    6.960345    Low Spender   \n",
       "32434167          8  New customer    6.960345    6.960345    Low Spender   \n",
       "32434168          8  New customer    6.960345    6.960345    Low Spender   \n",
       "32434169          8  New customer    6.960345    6.960345    Low Spender   \n",
       "32434170          8  New customer    6.960345    6.960345    Low Spender   \n",
       "\n",
       "          median_days_since_prior_order      Frequency_flag   region  \\\n",
       "0                                  19.0   Regular customer\"  Midwest   \n",
       "1                                  19.0   Regular customer\"  Midwest   \n",
       "2                                  19.0   Regular customer\"  Midwest   \n",
       "3                                  19.0   Regular customer\"  Midwest   \n",
       "4                                  19.0   Regular customer\"  Midwest   \n",
       "...                                 ...                 ...      ...   \n",
       "32434166                            8.0  Frequent customer\"  Midwest   \n",
       "32434167                            8.0  Frequent customer\"  Midwest   \n",
       "32434168                            8.0  Frequent customer\"  Midwest   \n",
       "32434169                            8.0  Frequent customer\"  Midwest   \n",
       "32434170                            8.0  Frequent customer\"  Midwest   \n",
       "\n",
       "          activity_flag  \n",
       "0                  High  \n",
       "1                  High  \n",
       "2                  High  \n",
       "3                  High  \n",
       "4                  High  \n",
       "...                 ...  \n",
       "32434166           High  \n",
       "32434167           High  \n",
       "32434168           High  \n",
       "32434169           High  \n",
       "32434170           High  \n",
       "\n",
       "[30992664 rows x 35 columns]>"
      ]
     },
     "execution_count": 19,
     "metadata": {},
     "output_type": "execute_result"
    }
   ],
   "source": [
    "df_high.head"
   ]
  },
  {
   "cell_type": "code",
   "execution_count": 20,
   "id": "6c8fc2de",
   "metadata": {},
   "outputs": [],
   "source": [
    "# Exporting subset data\n",
    "df_high.to_pickle(os.path.join(path, '02 Data', 'Prepared Data', 'instacart_customer_high_activity.pkl'))"
   ]
  },
  {
   "cell_type": "markdown",
   "id": "b90f1eb2",
   "metadata": {},
   "source": [
    "# Answer 5\n"
   ]
  },
  {
   "cell_type": "code",
   "execution_count": 21,
   "id": "8e539fe5",
   "metadata": {},
   "outputs": [
    {
     "data": {
      "text/plain": [
       "Index(['user_id', 'gender', 'state', 'Age', 'date_joined', 'dependants',\n",
       "       'family_status', 'income', 'order_id', 'eval_set', 'order_number',\n",
       "       'orders_day_of_week', 'order_hour_of_day', 'days_since_prior_order',\n",
       "       'product_id', 'add_to_cart_order', 'reordered', '_merge',\n",
       "       'product_name', 'aisle_id', 'department_id', 'prices',\n",
       "       'Price_range_loc', 'busiest_day', 'busiest_days',\n",
       "       'busiest_period_of_day', 'max_order', 'loyalty_flag', 'mean price',\n",
       "       'mean_price', 'Spending_flag', 'median_days_since_prior_order',\n",
       "       'Frequency_flag', 'region', 'activity_flag'],\n",
       "      dtype='object')"
      ]
     },
     "execution_count": 21,
     "metadata": {},
     "output_type": "execute_result"
    }
   ],
   "source": [
    "# Determining dataframe columns\n",
    "df_high. columns"
   ]
  },
  {
   "cell_type": "code",
   "execution_count": 22,
   "id": "e4f8d9d7",
   "metadata": {},
   "outputs": [
    {
     "data": {
      "text/plain": [
       "count    3.099266e+07\n",
       "mean     4.946793e+01\n",
       "std      1.848520e+01\n",
       "min      1.800000e+01\n",
       "25%      3.300000e+01\n",
       "50%      4.900000e+01\n",
       "75%      6.500000e+01\n",
       "max      8.100000e+01\n",
       "Name: Age, dtype: float64"
      ]
     },
     "execution_count": 22,
     "metadata": {},
     "output_type": "execute_result"
    }
   ],
   "source": [
    "# describing Age variable\n",
    "df_high['Age'].describe()"
   ]
  },
  {
   "cell_type": "code",
   "execution_count": 23,
   "id": "9e6b8054",
   "metadata": {},
   "outputs": [
    {
     "name": "stderr",
     "output_type": "stream",
     "text": [
      "C:\\Users\\Mafalda\\AppData\\Local\\Temp\\ipykernel_13704\\2533387078.py:2: SettingWithCopyWarning: \n",
      "A value is trying to be set on a copy of a slice from a DataFrame.\n",
      "Try using .loc[row_indexer,col_indexer] = value instead\n",
      "\n",
      "See the caveats in the documentation: https://pandas.pydata.org/pandas-docs/stable/user_guide/indexing.html#returning-a-view-versus-a-copy\n",
      "  df_high.loc[(df_high['Age'] >=18) &(df_high['Age'] <=33),'Age_group_flag'] = 'Young'\n",
      "C:\\Users\\Mafalda\\AppData\\Local\\Temp\\ipykernel_13704\\2533387078.py:2: FutureWarning: Setting an item of incompatible dtype is deprecated and will raise in a future error of pandas. Value 'Young' has dtype incompatible with float64, please explicitly cast to a compatible dtype first.\n",
      "  df_high.loc[(df_high['Age'] >=18) &(df_high['Age'] <=33),'Age_group_flag'] = 'Young'\n"
     ]
    }
   ],
   "source": [
    "# there will be 3 age groups created in a new Age group flag\n",
    "df_high.loc[(df_high['Age'] >=18) &(df_high['Age'] <=33),'Age_group_flag'] = 'Young'\n",
    "df_high.loc[(df_high['Age'] >=34) &(df_high['Age'] <=64),'Age_group_flag'] = 'Midle Age'\n",
    "df_high.loc[(df_high['Age'] >=65),'Age_group_flag'] = ' Old'"
   ]
  },
  {
   "cell_type": "code",
   "execution_count": 24,
   "id": "5b1ca2e1",
   "metadata": {},
   "outputs": [
    {
     "data": {
      "text/plain": [
       "Age_group_flag\n",
       "Midle Age    15025347\n",
       " Old          8202746\n",
       "Young         7764571\n",
       "Name: count, dtype: int64"
      ]
     },
     "execution_count": 24,
     "metadata": {},
     "output_type": "execute_result"
    }
   ],
   "source": [
    "df_high['Age_group_flag'].value_counts(dropna=False)"
   ]
  },
  {
   "cell_type": "code",
   "execution_count": 25,
   "id": "6da33658",
   "metadata": {},
   "outputs": [
    {
     "data": {
      "text/plain": [
       "count    3.099266e+07\n",
       "mean     9.967322e+04\n",
       "std      4.313928e+04\n",
       "min      2.590300e+04\n",
       "25%      6.728900e+04\n",
       "50%      9.676500e+04\n",
       "75%      1.281010e+05\n",
       "max      5.939010e+05\n",
       "Name: income, dtype: float64"
      ]
     },
     "execution_count": 25,
     "metadata": {},
     "output_type": "execute_result"
    }
   ],
   "source": [
    "# describing Income variable\n",
    "df_high['income'].describe()"
   ]
  },
  {
   "cell_type": "code",
   "execution_count": 26,
   "id": "b4de0c0b",
   "metadata": {},
   "outputs": [
    {
     "name": "stderr",
     "output_type": "stream",
     "text": [
      "C:\\Users\\Mafalda\\AppData\\Local\\Temp\\ipykernel_13704\\903587290.py:2: SettingWithCopyWarning: \n",
      "A value is trying to be set on a copy of a slice from a DataFrame.\n",
      "Try using .loc[row_indexer,col_indexer] = value instead\n",
      "\n",
      "See the caveats in the documentation: https://pandas.pydata.org/pandas-docs/stable/user_guide/indexing.html#returning-a-view-versus-a-copy\n",
      "  df_high.loc[(df_high['income'] >=2.5903e+04) &(df_high['income'] <=6.728900e+04),'income_group_flag'] = 'Low income'\n",
      "C:\\Users\\Mafalda\\AppData\\Local\\Temp\\ipykernel_13704\\903587290.py:2: FutureWarning: Setting an item of incompatible dtype is deprecated and will raise in a future error of pandas. Value 'Low income' has dtype incompatible with float64, please explicitly cast to a compatible dtype first.\n",
      "  df_high.loc[(df_high['income'] >=2.5903e+04) &(df_high['income'] <=6.728900e+04),'income_group_flag'] = 'Low income'\n"
     ]
    }
   ],
   "source": [
    "# there will be 3 income groups created in a new income_group flag\n",
    "df_high.loc[(df_high['income'] >=2.5903e+04) &(df_high['income'] <=6.728900e+04),'income_group_flag'] = 'Low income'\n",
    "df_high.loc[(df_high['income'] >6.728900e+04) &(df_high['income'] <=1.281010e+05),'income_group_flag'] = 'Regular income'\n",
    "df_high.loc[(df_high['income'] >1.281010e+05),'income_group_flag'] = 'High income'"
   ]
  },
  {
   "cell_type": "code",
   "execution_count": 27,
   "id": "1169fd17",
   "metadata": {},
   "outputs": [
    {
     "data": {
      "text/plain": [
       "income_group_flag\n",
       "Regular income    15496374\n",
       "Low income         7748290\n",
       "High income        7748000\n",
       "Name: count, dtype: int64"
      ]
     },
     "execution_count": 27,
     "metadata": {},
     "output_type": "execute_result"
    }
   ],
   "source": [
    "df_high['income_group_flag'].value_counts(dropna=False)"
   ]
  },
  {
   "cell_type": "code",
   "execution_count": 28,
   "id": "fee11aef",
   "metadata": {},
   "outputs": [
    {
     "data": {
      "text/plain": [
       "0            7\n",
       "1            7\n",
       "2            7\n",
       "3           16\n",
       "4           16\n",
       "            ..\n",
       "32434166    19\n",
       "32434167    19\n",
       "32434168    19\n",
       "32434169    11\n",
       "32434170    13\n",
       "Name: department_id, Length: 30992664, dtype: int64"
      ]
     },
     "execution_count": 28,
     "metadata": {},
     "output_type": "execute_result"
    }
   ],
   "source": [
    "# Describing department_id variable\n",
    "df_high['department_id']"
   ]
  },
  {
   "cell_type": "code",
   "execution_count": 29,
   "id": "c4ddcdd2",
   "metadata": {},
   "outputs": [],
   "source": [
    "#Adding the department_id name to the data set\n",
    "dept = pd.read_csv(os.path.join(path, '02 data', 'Prepared data', 'departments_wrangled.csv'))"
   ]
  },
  {
   "cell_type": "code",
   "execution_count": 30,
   "id": "b831e9db",
   "metadata": {},
   "outputs": [
    {
     "data": {
      "text/plain": [
       "(21, 2)"
      ]
     },
     "execution_count": 30,
     "metadata": {},
     "output_type": "execute_result"
    }
   ],
   "source": [
    "dept.shape"
   ]
  },
  {
   "cell_type": "code",
   "execution_count": 31,
   "id": "4da22fda",
   "metadata": {},
   "outputs": [
    {
     "data": {
      "text/plain": [
       "Index(['Unnamed: 0', 'department'], dtype='object')"
      ]
     },
     "execution_count": 31,
     "metadata": {},
     "output_type": "execute_result"
    }
   ],
   "source": [
    "dept.columns"
   ]
  },
  {
   "cell_type": "code",
   "execution_count": 32,
   "id": "14ff3e2d",
   "metadata": {},
   "outputs": [],
   "source": [
    "# rename columns\n",
    "dept.rename(columns = {'Unnamed: 0':'department_id'}, inplace = True)"
   ]
  },
  {
   "cell_type": "code",
   "execution_count": 33,
   "id": "9b7d2d15",
   "metadata": {},
   "outputs": [
    {
     "data": {
      "text/plain": [
       "(30992664, 37)"
      ]
     },
     "execution_count": 33,
     "metadata": {},
     "output_type": "execute_result"
    }
   ],
   "source": [
    "df_high. shape"
   ]
  },
  {
   "cell_type": "code",
   "execution_count": null,
   "id": "1e2ba016",
   "metadata": {},
   "outputs": [],
   "source": []
  },
  {
   "cell_type": "code",
   "execution_count": 41,
   "id": "b26c9767",
   "metadata": {},
   "outputs": [],
   "source": [
    "#dropping df_high columns\n",
    "df_high2 = df_high.drop(columns = ['date_joined','add_to_cart_order','reordered','_merge','aisle_id', 'order_id', 'eval_set', 'order_number'])"
   ]
  },
  {
   "cell_type": "code",
   "execution_count": 42,
   "id": "a2614501",
   "metadata": {},
   "outputs": [
    {
     "data": {
      "text/plain": [
       "(30992664, 29)"
      ]
     },
     "execution_count": 42,
     "metadata": {},
     "output_type": "execute_result"
    }
   ],
   "source": [
    "df_high2.shape"
   ]
  },
  {
   "cell_type": "code",
   "execution_count": 45,
   "id": "fe51eabe",
   "metadata": {},
   "outputs": [
    {
     "ename": "MemoryError",
     "evalue": "Unable to allocate 1.15 GiB for an array with shape (5, 30992664) and data type float64",
     "output_type": "error",
     "traceback": [
      "\u001b[1;31m---------------------------------------------------------------------------\u001b[0m",
      "\u001b[1;31mMemoryError\u001b[0m                               Traceback (most recent call last)",
      "Cell \u001b[1;32mIn[45], line 2\u001b[0m\n\u001b[0;32m      1\u001b[0m \u001b[38;5;66;03m# merge dataframes\u001b[39;00m\n\u001b[1;32m----> 2\u001b[0m df_final\u001b[38;5;241m=\u001b[39mdept\u001b[38;5;241m.\u001b[39mmerge(df_high2, on \u001b[38;5;241m=\u001b[39m \u001b[38;5;124m'\u001b[39m\u001b[38;5;124mdepartment_id\u001b[39m\u001b[38;5;124m'\u001b[39m)\n",
      "File \u001b[1;32m~\\anaconda3\\Lib\\site-packages\\pandas\\core\\frame.py:10490\u001b[0m, in \u001b[0;36mDataFrame.merge\u001b[1;34m(self, right, how, on, left_on, right_on, left_index, right_index, sort, suffixes, copy, indicator, validate)\u001b[0m\n\u001b[0;32m  10471\u001b[0m \u001b[38;5;129m@Substitution\u001b[39m(\u001b[38;5;124m\"\u001b[39m\u001b[38;5;124m\"\u001b[39m)\n\u001b[0;32m  10472\u001b[0m \u001b[38;5;129m@Appender\u001b[39m(_merge_doc, indents\u001b[38;5;241m=\u001b[39m\u001b[38;5;241m2\u001b[39m)\n\u001b[0;32m  10473\u001b[0m \u001b[38;5;28;01mdef\u001b[39;00m \u001b[38;5;21mmerge\u001b[39m(\n\u001b[1;32m   (...)\u001b[0m\n\u001b[0;32m  10486\u001b[0m     validate: MergeValidate \u001b[38;5;241m|\u001b[39m \u001b[38;5;28;01mNone\u001b[39;00m \u001b[38;5;241m=\u001b[39m \u001b[38;5;28;01mNone\u001b[39;00m,\n\u001b[0;32m  10487\u001b[0m ) \u001b[38;5;241m-\u001b[39m\u001b[38;5;241m>\u001b[39m DataFrame:\n\u001b[0;32m  10488\u001b[0m     \u001b[38;5;28;01mfrom\u001b[39;00m \u001b[38;5;21;01mpandas\u001b[39;00m\u001b[38;5;21;01m.\u001b[39;00m\u001b[38;5;21;01mcore\u001b[39;00m\u001b[38;5;21;01m.\u001b[39;00m\u001b[38;5;21;01mreshape\u001b[39;00m\u001b[38;5;21;01m.\u001b[39;00m\u001b[38;5;21;01mmerge\u001b[39;00m \u001b[38;5;28;01mimport\u001b[39;00m merge\n\u001b[1;32m> 10490\u001b[0m     \u001b[38;5;28;01mreturn\u001b[39;00m merge(\n\u001b[0;32m  10491\u001b[0m         \u001b[38;5;28mself\u001b[39m,\n\u001b[0;32m  10492\u001b[0m         right,\n\u001b[0;32m  10493\u001b[0m         how\u001b[38;5;241m=\u001b[39mhow,\n\u001b[0;32m  10494\u001b[0m         on\u001b[38;5;241m=\u001b[39mon,\n\u001b[0;32m  10495\u001b[0m         left_on\u001b[38;5;241m=\u001b[39mleft_on,\n\u001b[0;32m  10496\u001b[0m         right_on\u001b[38;5;241m=\u001b[39mright_on,\n\u001b[0;32m  10497\u001b[0m         left_index\u001b[38;5;241m=\u001b[39mleft_index,\n\u001b[0;32m  10498\u001b[0m         right_index\u001b[38;5;241m=\u001b[39mright_index,\n\u001b[0;32m  10499\u001b[0m         sort\u001b[38;5;241m=\u001b[39msort,\n\u001b[0;32m  10500\u001b[0m         suffixes\u001b[38;5;241m=\u001b[39msuffixes,\n\u001b[0;32m  10501\u001b[0m         copy\u001b[38;5;241m=\u001b[39mcopy,\n\u001b[0;32m  10502\u001b[0m         indicator\u001b[38;5;241m=\u001b[39mindicator,\n\u001b[0;32m  10503\u001b[0m         validate\u001b[38;5;241m=\u001b[39mvalidate,\n\u001b[0;32m  10504\u001b[0m     )\n",
      "File \u001b[1;32m~\\anaconda3\\Lib\\site-packages\\pandas\\core\\reshape\\merge.py:183\u001b[0m, in \u001b[0;36mmerge\u001b[1;34m(left, right, how, on, left_on, right_on, left_index, right_index, sort, suffixes, copy, indicator, validate)\u001b[0m\n\u001b[0;32m    168\u001b[0m \u001b[38;5;28;01melse\u001b[39;00m:\n\u001b[0;32m    169\u001b[0m     op \u001b[38;5;241m=\u001b[39m _MergeOperation(\n\u001b[0;32m    170\u001b[0m         left_df,\n\u001b[0;32m    171\u001b[0m         right_df,\n\u001b[1;32m   (...)\u001b[0m\n\u001b[0;32m    181\u001b[0m         validate\u001b[38;5;241m=\u001b[39mvalidate,\n\u001b[0;32m    182\u001b[0m     )\n\u001b[1;32m--> 183\u001b[0m     \u001b[38;5;28;01mreturn\u001b[39;00m op\u001b[38;5;241m.\u001b[39mget_result(copy\u001b[38;5;241m=\u001b[39mcopy)\n",
      "File \u001b[1;32m~\\anaconda3\\Lib\\site-packages\\pandas\\core\\reshape\\merge.py:885\u001b[0m, in \u001b[0;36m_MergeOperation.get_result\u001b[1;34m(self, copy)\u001b[0m\n\u001b[0;32m    881\u001b[0m     \u001b[38;5;28mself\u001b[39m\u001b[38;5;241m.\u001b[39mleft, \u001b[38;5;28mself\u001b[39m\u001b[38;5;241m.\u001b[39mright \u001b[38;5;241m=\u001b[39m \u001b[38;5;28mself\u001b[39m\u001b[38;5;241m.\u001b[39m_indicator_pre_merge(\u001b[38;5;28mself\u001b[39m\u001b[38;5;241m.\u001b[39mleft, \u001b[38;5;28mself\u001b[39m\u001b[38;5;241m.\u001b[39mright)\n\u001b[0;32m    883\u001b[0m join_index, left_indexer, right_indexer \u001b[38;5;241m=\u001b[39m \u001b[38;5;28mself\u001b[39m\u001b[38;5;241m.\u001b[39m_get_join_info()\n\u001b[1;32m--> 885\u001b[0m result \u001b[38;5;241m=\u001b[39m \u001b[38;5;28mself\u001b[39m\u001b[38;5;241m.\u001b[39m_reindex_and_concat(\n\u001b[0;32m    886\u001b[0m     join_index, left_indexer, right_indexer, copy\u001b[38;5;241m=\u001b[39mcopy\n\u001b[0;32m    887\u001b[0m )\n\u001b[0;32m    888\u001b[0m result \u001b[38;5;241m=\u001b[39m result\u001b[38;5;241m.\u001b[39m__finalize__(\u001b[38;5;28mself\u001b[39m, method\u001b[38;5;241m=\u001b[39m\u001b[38;5;28mself\u001b[39m\u001b[38;5;241m.\u001b[39m_merge_type)\n\u001b[0;32m    890\u001b[0m \u001b[38;5;28;01mif\u001b[39;00m \u001b[38;5;28mself\u001b[39m\u001b[38;5;241m.\u001b[39mindicator:\n",
      "File \u001b[1;32m~\\anaconda3\\Lib\\site-packages\\pandas\\core\\reshape\\merge.py:876\u001b[0m, in \u001b[0;36m_MergeOperation._reindex_and_concat\u001b[1;34m(self, join_index, left_indexer, right_indexer, copy)\u001b[0m\n\u001b[0;32m    874\u001b[0m left\u001b[38;5;241m.\u001b[39mcolumns \u001b[38;5;241m=\u001b[39m llabels\n\u001b[0;32m    875\u001b[0m right\u001b[38;5;241m.\u001b[39mcolumns \u001b[38;5;241m=\u001b[39m rlabels\n\u001b[1;32m--> 876\u001b[0m result \u001b[38;5;241m=\u001b[39m concat([left, right], axis\u001b[38;5;241m=\u001b[39m\u001b[38;5;241m1\u001b[39m, copy\u001b[38;5;241m=\u001b[39mcopy)\n\u001b[0;32m    877\u001b[0m \u001b[38;5;28;01mreturn\u001b[39;00m result\n",
      "File \u001b[1;32m~\\anaconda3\\Lib\\site-packages\\pandas\\core\\reshape\\concat.py:393\u001b[0m, in \u001b[0;36mconcat\u001b[1;34m(objs, axis, join, ignore_index, keys, levels, names, verify_integrity, sort, copy)\u001b[0m\n\u001b[0;32m    378\u001b[0m     copy \u001b[38;5;241m=\u001b[39m \u001b[38;5;28;01mFalse\u001b[39;00m\n\u001b[0;32m    380\u001b[0m op \u001b[38;5;241m=\u001b[39m _Concatenator(\n\u001b[0;32m    381\u001b[0m     objs,\n\u001b[0;32m    382\u001b[0m     axis\u001b[38;5;241m=\u001b[39maxis,\n\u001b[1;32m   (...)\u001b[0m\n\u001b[0;32m    390\u001b[0m     sort\u001b[38;5;241m=\u001b[39msort,\n\u001b[0;32m    391\u001b[0m )\n\u001b[1;32m--> 393\u001b[0m \u001b[38;5;28;01mreturn\u001b[39;00m op\u001b[38;5;241m.\u001b[39mget_result()\n",
      "File \u001b[1;32m~\\anaconda3\\Lib\\site-packages\\pandas\\core\\reshape\\concat.py:680\u001b[0m, in \u001b[0;36m_Concatenator.get_result\u001b[1;34m(self)\u001b[0m\n\u001b[0;32m    676\u001b[0m             indexers[ax] \u001b[38;5;241m=\u001b[39m obj_labels\u001b[38;5;241m.\u001b[39mget_indexer(new_labels)\n\u001b[0;32m    678\u001b[0m     mgrs_indexers\u001b[38;5;241m.\u001b[39mappend((obj\u001b[38;5;241m.\u001b[39m_mgr, indexers))\n\u001b[1;32m--> 680\u001b[0m new_data \u001b[38;5;241m=\u001b[39m concatenate_managers(\n\u001b[0;32m    681\u001b[0m     mgrs_indexers, \u001b[38;5;28mself\u001b[39m\u001b[38;5;241m.\u001b[39mnew_axes, concat_axis\u001b[38;5;241m=\u001b[39m\u001b[38;5;28mself\u001b[39m\u001b[38;5;241m.\u001b[39mbm_axis, copy\u001b[38;5;241m=\u001b[39m\u001b[38;5;28mself\u001b[39m\u001b[38;5;241m.\u001b[39mcopy\n\u001b[0;32m    682\u001b[0m )\n\u001b[0;32m    683\u001b[0m \u001b[38;5;28;01mif\u001b[39;00m \u001b[38;5;129;01mnot\u001b[39;00m \u001b[38;5;28mself\u001b[39m\u001b[38;5;241m.\u001b[39mcopy \u001b[38;5;129;01mand\u001b[39;00m \u001b[38;5;129;01mnot\u001b[39;00m using_copy_on_write():\n\u001b[0;32m    684\u001b[0m     new_data\u001b[38;5;241m.\u001b[39m_consolidate_inplace()\n",
      "File \u001b[1;32m~\\anaconda3\\Lib\\site-packages\\pandas\\core\\internals\\concat.py:131\u001b[0m, in \u001b[0;36mconcatenate_managers\u001b[1;34m(mgrs_indexers, axes, concat_axis, copy)\u001b[0m\n\u001b[0;32m    124\u001b[0m \u001b[38;5;66;03m# Assertions disabled for performance\u001b[39;00m\n\u001b[0;32m    125\u001b[0m \u001b[38;5;66;03m# for tup in mgrs_indexers:\u001b[39;00m\n\u001b[0;32m    126\u001b[0m \u001b[38;5;66;03m#    # caller is responsible for ensuring this\u001b[39;00m\n\u001b[0;32m    127\u001b[0m \u001b[38;5;66;03m#    indexers = tup[1]\u001b[39;00m\n\u001b[0;32m    128\u001b[0m \u001b[38;5;66;03m#    assert concat_axis not in indexers\u001b[39;00m\n\u001b[0;32m    130\u001b[0m \u001b[38;5;28;01mif\u001b[39;00m concat_axis \u001b[38;5;241m==\u001b[39m \u001b[38;5;241m0\u001b[39m:\n\u001b[1;32m--> 131\u001b[0m     mgrs \u001b[38;5;241m=\u001b[39m _maybe_reindex_columns_na_proxy(axes, mgrs_indexers, needs_copy)\n\u001b[0;32m    132\u001b[0m     \u001b[38;5;28;01mreturn\u001b[39;00m mgrs[\u001b[38;5;241m0\u001b[39m]\u001b[38;5;241m.\u001b[39mconcat_horizontal(mgrs, axes)\n\u001b[0;32m    134\u001b[0m \u001b[38;5;28;01mif\u001b[39;00m \u001b[38;5;28mlen\u001b[39m(mgrs_indexers) \u001b[38;5;241m>\u001b[39m \u001b[38;5;241m0\u001b[39m \u001b[38;5;129;01mand\u001b[39;00m mgrs_indexers[\u001b[38;5;241m0\u001b[39m][\u001b[38;5;241m0\u001b[39m]\u001b[38;5;241m.\u001b[39mnblocks \u001b[38;5;241m>\u001b[39m \u001b[38;5;241m0\u001b[39m:\n",
      "File \u001b[1;32m~\\anaconda3\\Lib\\site-packages\\pandas\\core\\internals\\concat.py:230\u001b[0m, in \u001b[0;36m_maybe_reindex_columns_na_proxy\u001b[1;34m(axes, mgrs_indexers, needs_copy)\u001b[0m\n\u001b[0;32m    220\u001b[0m         mgr \u001b[38;5;241m=\u001b[39m mgr\u001b[38;5;241m.\u001b[39mreindex_indexer(\n\u001b[0;32m    221\u001b[0m             axes[i],\n\u001b[0;32m    222\u001b[0m             indexers[i],\n\u001b[1;32m   (...)\u001b[0m\n\u001b[0;32m    227\u001b[0m             use_na_proxy\u001b[38;5;241m=\u001b[39m\u001b[38;5;28;01mTrue\u001b[39;00m,  \u001b[38;5;66;03m# only relevant for i==0\u001b[39;00m\n\u001b[0;32m    228\u001b[0m         )\n\u001b[0;32m    229\u001b[0m     \u001b[38;5;28;01mif\u001b[39;00m needs_copy \u001b[38;5;129;01mand\u001b[39;00m \u001b[38;5;129;01mnot\u001b[39;00m indexers:\n\u001b[1;32m--> 230\u001b[0m         mgr \u001b[38;5;241m=\u001b[39m mgr\u001b[38;5;241m.\u001b[39mcopy()\n\u001b[0;32m    232\u001b[0m     new_mgrs\u001b[38;5;241m.\u001b[39mappend(mgr)\n\u001b[0;32m    233\u001b[0m \u001b[38;5;28;01mreturn\u001b[39;00m new_mgrs\n",
      "File \u001b[1;32m~\\anaconda3\\Lib\\site-packages\\pandas\\core\\internals\\managers.py:576\u001b[0m, in \u001b[0;36mBaseBlockManager.copy\u001b[1;34m(self, deep)\u001b[0m\n\u001b[0;32m    573\u001b[0m     \u001b[38;5;28;01melse\u001b[39;00m:\n\u001b[0;32m    574\u001b[0m         new_axes \u001b[38;5;241m=\u001b[39m \u001b[38;5;28mlist\u001b[39m(\u001b[38;5;28mself\u001b[39m\u001b[38;5;241m.\u001b[39maxes)\n\u001b[1;32m--> 576\u001b[0m res \u001b[38;5;241m=\u001b[39m \u001b[38;5;28mself\u001b[39m\u001b[38;5;241m.\u001b[39mapply(\u001b[38;5;124m\"\u001b[39m\u001b[38;5;124mcopy\u001b[39m\u001b[38;5;124m\"\u001b[39m, deep\u001b[38;5;241m=\u001b[39mdeep)\n\u001b[0;32m    577\u001b[0m res\u001b[38;5;241m.\u001b[39maxes \u001b[38;5;241m=\u001b[39m new_axes\n\u001b[0;32m    579\u001b[0m \u001b[38;5;28;01mif\u001b[39;00m \u001b[38;5;28mself\u001b[39m\u001b[38;5;241m.\u001b[39mndim \u001b[38;5;241m>\u001b[39m \u001b[38;5;241m1\u001b[39m:\n\u001b[0;32m    580\u001b[0m     \u001b[38;5;66;03m# Avoid needing to re-compute these\u001b[39;00m\n",
      "File \u001b[1;32m~\\anaconda3\\Lib\\site-packages\\pandas\\core\\internals\\managers.py:354\u001b[0m, in \u001b[0;36mBaseBlockManager.apply\u001b[1;34m(self, f, align_keys, **kwargs)\u001b[0m\n\u001b[0;32m    352\u001b[0m         applied \u001b[38;5;241m=\u001b[39m b\u001b[38;5;241m.\u001b[39mapply(f, \u001b[38;5;241m*\u001b[39m\u001b[38;5;241m*\u001b[39mkwargs)\n\u001b[0;32m    353\u001b[0m     \u001b[38;5;28;01melse\u001b[39;00m:\n\u001b[1;32m--> 354\u001b[0m         applied \u001b[38;5;241m=\u001b[39m \u001b[38;5;28mgetattr\u001b[39m(b, f)(\u001b[38;5;241m*\u001b[39m\u001b[38;5;241m*\u001b[39mkwargs)\n\u001b[0;32m    355\u001b[0m     result_blocks \u001b[38;5;241m=\u001b[39m extend_blocks(applied, result_blocks)\n\u001b[0;32m    357\u001b[0m out \u001b[38;5;241m=\u001b[39m \u001b[38;5;28mtype\u001b[39m(\u001b[38;5;28mself\u001b[39m)\u001b[38;5;241m.\u001b[39mfrom_blocks(result_blocks, \u001b[38;5;28mself\u001b[39m\u001b[38;5;241m.\u001b[39maxes)\n",
      "File \u001b[1;32m~\\anaconda3\\Lib\\site-packages\\pandas\\core\\internals\\blocks.py:645\u001b[0m, in \u001b[0;36mBlock.copy\u001b[1;34m(self, deep)\u001b[0m\n\u001b[0;32m    643\u001b[0m refs: BlockValuesRefs \u001b[38;5;241m|\u001b[39m \u001b[38;5;28;01mNone\u001b[39;00m\n\u001b[0;32m    644\u001b[0m \u001b[38;5;28;01mif\u001b[39;00m deep:\n\u001b[1;32m--> 645\u001b[0m     values \u001b[38;5;241m=\u001b[39m values\u001b[38;5;241m.\u001b[39mcopy()\n\u001b[0;32m    646\u001b[0m     refs \u001b[38;5;241m=\u001b[39m \u001b[38;5;28;01mNone\u001b[39;00m\n\u001b[0;32m    647\u001b[0m \u001b[38;5;28;01melse\u001b[39;00m:\n",
      "\u001b[1;31mMemoryError\u001b[0m: Unable to allocate 1.15 GiB for an array with shape (5, 30992664) and data type float64"
     ]
    }
   ],
   "source": [
    "# merge dataframes\n",
    "df_final=dept.merge(df_high2, on = 'department_id')\n"
   ]
  },
  {
   "cell_type": "code",
   "execution_count": null,
   "id": "cb47cf82",
   "metadata": {},
   "outputs": [],
   "source": [
    "df_final.head\n"
   ]
  },
  {
   "cell_type": "code",
   "execution_count": null,
   "id": "7ccbc34d",
   "metadata": {},
   "outputs": [],
   "source": [
    "df_final['department'].value_counts()"
   ]
  },
  {
   "cell_type": "code",
   "execution_count": null,
   "id": "eab9a73c",
   "metadata": {},
   "outputs": [],
   "source": [
    "# Describing number_dependants variable\n",
    "df_final['dependants'].value_counts(dropna=False)"
   ]
  },
  {
   "cell_type": "code",
   "execution_count": null,
   "id": "f0ad17d2",
   "metadata": {},
   "outputs": [],
   "source": [
    "# there will be 3 dependant groups created in a new dependant_group flag\n",
    "df_final.loc[(df_final['dependants'] <1),'dependants_group_flag'] = 'no dependant'\n",
    "df_final.loc[(df_final['dependants'] ==1),'dependants_group_flag'] = 'one dependant'\n",
    "df_final.loc[(df_final['dependants'] >1),'dependants_group_flag'] = 'plus dependants'"
   ]
  },
  {
   "cell_type": "code",
   "execution_count": null,
   "id": "9dd244dc",
   "metadata": {},
   "outputs": [],
   "source": [
    "df_final['dependants_group_flag'].value_counts(dropna=False)"
   ]
  },
  {
   "cell_type": "code",
   "execution_count": null,
   "id": "c398638c",
   "metadata": {},
   "outputs": [],
   "source": [
    "df_final.shape"
   ]
  },
  {
   "cell_type": "code",
   "execution_count": null,
   "id": "73b434d6",
   "metadata": {},
   "outputs": [],
   "source": [
    "# Exporting data\n",
    "df_final.to_pickle(os.path.join(path, '02 Data', 'Prepared Data', 'instacart_customer_high_activity_v2.pkl'))"
   ]
  },
  {
   "cell_type": "markdown",
   "id": "a5145ff9",
   "metadata": {},
   "source": [
    "# Answer 6"
   ]
  },
  {
   "cell_type": "code",
   "execution_count": null,
   "id": "66436caa",
   "metadata": {},
   "outputs": [],
   "source": [
    "# Creating a data subset 70/30 split for data visualization\n",
    "np.random.seed(4)\n",
    "dev = np.random.rand(len(df_final)) <= 0.7\n",
    "big= df_final[dev]\n",
    "small=df_final[~dev]"
   ]
  },
  {
   "cell_type": "code",
   "execution_count": null,
   "id": "5f762815",
   "metadata": {},
   "outputs": [],
   "source": [
    "len(df_final)"
   ]
  },
  {
   "cell_type": "code",
   "execution_count": null,
   "id": "4eb76ba3",
   "metadata": {},
   "outputs": [],
   "source": [
    "len (big)+len(small)"
   ]
  },
  {
   "cell_type": "code",
   "execution_count": null,
   "id": "35a16c7f",
   "metadata": {},
   "outputs": [],
   "source": [
    "# Visualization of age distribution/ nºorders\n",
    "small['Age_group_flag'].value_counts().plot.bar()\n",
    "plt.ticklabel_format(style='plain', useOffset=False, axis='y')\n",
    "y=np.array  ([0,1000000,2000000,3000000,4000000,5000000,6000000])\n",
    "plt.yticks(y,[\"0\",\"1\", \"2\",\"3\",\"4\",\"5\",\"6\"], rotation=0)\n",
    "plt.xlabel(\" \", fontsize=12)\n",
    "plt.xticks(rotation=0)\n",
    "plt.ylabel(\"Number of Orders\", fontsize=12)\n",
    "plt.title (\"Age Group Distribuition\", fontsize=14)\n",
    "plt.show()"
   ]
  },
  {
   "cell_type": "code",
   "execution_count": null,
   "id": "744dcbf9",
   "metadata": {},
   "outputs": [],
   "source": [
    "# Visualization of income distribution/ nºorders\n",
    "small['income_group_flag'].value_counts().plot.bar()\n",
    "plt.xlabel(\" \", fontsize=12)\n",
    "plt.xticks(rotation=0)\n",
    "plt.ylabel(\"Number of orders \", fontsize=12)\n",
    "plt.title (\"Income Group Distribuition\", fontsize=14)\n",
    "plt.show()"
   ]
  },
  {
   "cell_type": "code",
   "execution_count": null,
   "id": "806dee4f",
   "metadata": {},
   "outputs": [],
   "source": [
    "# Visualization of department distribution/ nºorders\n",
    "small['department'].value_counts().plot.bar()\n",
    "plt.ylabel(\"Number of Orders\", fontsize=12)\n",
    "plt.xlabel(\" \", fontsize=12)  \n",
    "plt.title(\"Orders by Departments\", fontsize=14)\n",
    "plt.show()\n"
   ]
  },
  {
   "cell_type": "code",
   "execution_count": null,
   "id": "1cae6faa",
   "metadata": {
    "scrolled": true
   },
   "outputs": [],
   "source": [
    "# Visualzation of income distribution/ nºorders\n",
    "small['dependants_group_flag'].value_counts().plot.bar()\n",
    "plt.xlabel(\" \", fontsize=12)\n",
    "plt.xticks(rotation=0)\n",
    "plt.ylabel(\"Number of orders \", fontsize=12)\n",
    "plt.title (\"Dependants Group Distribuition\", fontsize=14)\n",
    "plt.show()"
   ]
  },
  {
   "cell_type": "markdown",
   "id": "fee00ffd",
   "metadata": {},
   "source": [
    "#  Answer 7"
   ]
  },
  {
   "cell_type": "code",
   "execution_count": null,
   "id": "bbf8c28f",
   "metadata": {},
   "outputs": [],
   "source": [
    "small.head(1)"
   ]
  },
  {
   "cell_type": "code",
   "execution_count": null,
   "id": "406128fa",
   "metadata": {},
   "outputs": [],
   "source": [
    "# Aggregating the max, mean, min variables on age group for usage frequency and expenditure\n",
    "small.groupby('Age_group_flag').agg({'order_number':['mean', 'min', 'max'], 'prices':['mean', 'min', 'max']})"
   ]
  },
  {
   "cell_type": "code",
   "execution_count": null,
   "id": "47bcea27",
   "metadata": {},
   "outputs": [],
   "source": [
    "# Aggregating the max, mean, min variables on spending  for usage frequency and expenditure\n",
    "small.groupby('Spending_flag').agg({'order_number':['mean', 'min', 'max'], 'prices':['mean', 'min', 'max']})"
   ]
  },
  {
   "cell_type": "code",
   "execution_count": null,
   "id": "8fd79012",
   "metadata": {},
   "outputs": [],
   "source": [
    "# Aggregating the max, mean, min variables on gender for usage frequency and expenditure\n",
    "small.groupby('gender').agg({'order_number':['mean', 'min', 'max'], 'prices':['mean', 'min', 'max']})"
   ]
  },
  {
   "cell_type": "code",
   "execution_count": null,
   "id": "6f139594",
   "metadata": {},
   "outputs": [],
   "source": [
    "# Aggregating the max, mean, min variables on Loyalty flag for usage frequency and expenditure\n",
    "small.groupby('loyalty_flag').agg({'order_number':['mean', 'min', 'max'], 'prices':['mean', 'min', 'max']})"
   ]
  },
  {
   "cell_type": "code",
   "execution_count": null,
   "id": "8aa92bc8",
   "metadata": {},
   "outputs": [],
   "source": [
    "# Aggregating the max, mean, min variables on family status for usage frequency and expenditure\n",
    "small.groupby('family_status').agg({'order_number':['mean', 'min', 'max'], 'prices':['mean', 'min', 'max']})"
   ]
  },
  {
   "cell_type": "code",
   "execution_count": null,
   "id": "c5579599",
   "metadata": {},
   "outputs": [],
   "source": [
    "# Aggregating the max, mean, min variables on income group for usage frequency and expenditure\n",
    "small.groupby('income_group_flag').agg({'order_number':['mean', 'min', 'max'], 'prices':['mean', 'min', 'max']})"
   ]
  },
  {
   "cell_type": "code",
   "execution_count": null,
   "id": "3416bb62",
   "metadata": {},
   "outputs": [],
   "source": [
    "# Aggregating the max, mean, min variables on dependants group for usage frequency and expenditure\n",
    "small.groupby('dependants_group_flag').agg({'order_number':['mean', 'min', 'max'], 'prices':['mean', 'min', 'max']})"
   ]
  },
  {
   "cell_type": "code",
   "execution_count": null,
   "id": "2873d003",
   "metadata": {},
   "outputs": [],
   "source": [
    "# Aggregating the max, mean, min variables on product bought for usage frequency and expenditure\n",
    "small.groupby('department').agg({'order_number':['mean', 'min', 'max'], 'prices':['mean', 'min', 'max']})"
   ]
  },
  {
   "cell_type": "markdown",
   "id": "ec01cb9d",
   "metadata": {},
   "source": [
    "# Answer 8"
   ]
  },
  {
   "cell_type": "code",
   "execution_count": null,
   "id": "cfaefdd7",
   "metadata": {},
   "outputs": [],
   "source": [
    "# Comparing customer profiles with regions"
   ]
  },
  {
   "cell_type": "code",
   "execution_count": null,
   "id": "e0850381",
   "metadata": {},
   "outputs": [],
   "source": [
    "# Creating crosstab age group /region\n",
    "crosstab_Age_region = pd.crosstab(small['region'], small['Age_group_flag'], dropna=False)"
   ]
  },
  {
   "cell_type": "code",
   "execution_count": null,
   "id": "33aa803c",
   "metadata": {},
   "outputs": [],
   "source": [
    "crosstab_Age_region"
   ]
  },
  {
   "cell_type": "code",
   "execution_count": null,
   "id": "aff63ffa",
   "metadata": {},
   "outputs": [],
   "source": [
    "# Creating crosstab income /region\n",
    "crosstab_income_region = pd.crosstab(small['region'], small['income_group_flag'], dropna=False)"
   ]
  },
  {
   "cell_type": "code",
   "execution_count": null,
   "id": "fd1bc831",
   "metadata": {},
   "outputs": [],
   "source": [
    "crosstab_income_region"
   ]
  },
  {
   "cell_type": "code",
   "execution_count": null,
   "id": "3e2c3253",
   "metadata": {},
   "outputs": [],
   "source": [
    "# Creating crosstab dependants /region\n",
    "crosstab_dependants_region = pd.crosstab(small['region'], small['dependants_group_flag'], dropna=False)"
   ]
  },
  {
   "cell_type": "code",
   "execution_count": null,
   "id": "ef0a0426",
   "metadata": {},
   "outputs": [],
   "source": [
    "crosstab_dependants_region"
   ]
  },
  {
   "cell_type": "code",
   "execution_count": null,
   "id": "ed53d063",
   "metadata": {},
   "outputs": [],
   "source": [
    "# Creating crosstab department products /region\n",
    "crosstab_departments_region = pd.crosstab(small['region'], small['department'], dropna=False)"
   ]
  },
  {
   "cell_type": "code",
   "execution_count": null,
   "id": "2766c4dd",
   "metadata": {
    "scrolled": true
   },
   "outputs": [],
   "source": [
    "crosstab_departments_region"
   ]
  },
  {
   "cell_type": "code",
   "execution_count": null,
   "id": "314ce848",
   "metadata": {},
   "outputs": [],
   "source": [
    "# Creating crosstab spending flag/region\n",
    "crosstab_spending_region = pd.crosstab(small['region'], small['Spending_flag'], dropna=False)"
   ]
  },
  {
   "cell_type": "code",
   "execution_count": null,
   "id": "74f9238e",
   "metadata": {},
   "outputs": [],
   "source": [
    "crosstab_spending_region "
   ]
  },
  {
   "cell_type": "code",
   "execution_count": null,
   "id": "c455b0a3",
   "metadata": {},
   "outputs": [],
   "source": [
    "# Creating crosstab gender /region\n",
    "crosstab_gender_region = pd.crosstab(small['region'], small['gender'], dropna=False)"
   ]
  },
  {
   "cell_type": "code",
   "execution_count": null,
   "id": "d76be52d",
   "metadata": {},
   "outputs": [],
   "source": [
    "crosstab_gender_region"
   ]
  },
  {
   "cell_type": "code",
   "execution_count": null,
   "id": "3af5b6c6",
   "metadata": {},
   "outputs": [],
   "source": [
    "# Creating crosstab loyalty /region\n",
    "crosstab_loyalty_region = pd.crosstab(small['region'], small['loyalty_flag'], dropna=False)"
   ]
  },
  {
   "cell_type": "code",
   "execution_count": null,
   "id": "90238a7f",
   "metadata": {},
   "outputs": [],
   "source": [
    "crosstab_loyalty_region"
   ]
  },
  {
   "cell_type": "code",
   "execution_count": null,
   "id": "56285f06",
   "metadata": {},
   "outputs": [],
   "source": [
    "# Comparing customer profiles with departments"
   ]
  },
  {
   "cell_type": "code",
   "execution_count": null,
   "id": "a9a46853",
   "metadata": {},
   "outputs": [],
   "source": [
    "# Creating crosstab age group / departments\n",
    "crosstab_Age_departments= pd.crosstab(small['department'], small['Age_group_flag'], dropna=False)"
   ]
  },
  {
   "cell_type": "code",
   "execution_count": null,
   "id": "b3ecf7b7",
   "metadata": {},
   "outputs": [],
   "source": [
    "crosstab_Age_departments"
   ]
  },
  {
   "cell_type": "code",
   "execution_count": null,
   "id": "588e6b47",
   "metadata": {},
   "outputs": [],
   "source": [
    "# Creating crosstab income group / departments\n",
    "crosstab_income_departments= pd.crosstab(small['department'], small['income_group_flag'], dropna=False)"
   ]
  },
  {
   "cell_type": "code",
   "execution_count": null,
   "id": "b9e1d48c",
   "metadata": {},
   "outputs": [],
   "source": [
    "crosstab_income_departments"
   ]
  },
  {
   "cell_type": "code",
   "execution_count": null,
   "id": "653a5156",
   "metadata": {},
   "outputs": [],
   "source": [
    "# Creating crosstab dependants group / departments\n",
    "crosstab_dependants_departments= pd.crosstab(small['department'], small['dependants_group_flag'], dropna=False)"
   ]
  },
  {
   "cell_type": "code",
   "execution_count": null,
   "id": "1e24a983",
   "metadata": {},
   "outputs": [],
   "source": [
    "crosstab_dependants_departments"
   ]
  },
  {
   "cell_type": "code",
   "execution_count": null,
   "id": "917bd3b4",
   "metadata": {},
   "outputs": [],
   "source": [
    "# Creating crosstab spending / departments\n",
    "crosstab_spending_departments= pd.crosstab(small['department'], small['Spending_flag'], dropna=False)"
   ]
  },
  {
   "cell_type": "code",
   "execution_count": null,
   "id": "15dbe712",
   "metadata": {},
   "outputs": [],
   "source": [
    "crosstab_spending_departments"
   ]
  },
  {
   "cell_type": "code",
   "execution_count": null,
   "id": "2bb2e457",
   "metadata": {},
   "outputs": [],
   "source": [
    "# Creating crosstab gender / departments\n",
    "crosstab_gender_departments= pd.crosstab(small['department'], small['gender'], dropna=False)"
   ]
  },
  {
   "cell_type": "code",
   "execution_count": null,
   "id": "8389cb8c",
   "metadata": {},
   "outputs": [],
   "source": [
    "crosstab_gender_departments"
   ]
  },
  {
   "cell_type": "code",
   "execution_count": null,
   "id": "308adb8e",
   "metadata": {},
   "outputs": [],
   "source": [
    "# Creating crosstab loyalty / departments\n",
    "crosstab_loyalty_departments= pd.crosstab(small['department'], small['loyalty_flag'], dropna=False)"
   ]
  },
  {
   "cell_type": "code",
   "execution_count": null,
   "id": "9ab1b0af",
   "metadata": {},
   "outputs": [],
   "source": [
    "crosstab_loyalty_departments"
   ]
  },
  {
   "cell_type": "markdown",
   "id": "7e4355b3",
   "metadata": {},
   "source": [
    "# Answer 9"
   ]
  },
  {
   "cell_type": "code",
   "execution_count": null,
   "id": "b63ae9aa",
   "metadata": {
    "scrolled": true
   },
   "outputs": [],
   "source": [
    "# Visualization for age group /region crossbar\n",
    "crossbar_age_region_chart=crosstab_Age_region.plot.bar(color=['red', 'blue', 'green', 'orange'])\n",
    "plt.ylabel(\"Number of Orders\", fontsize=12)\n",
    "plt.xlabel(\" \", fontsize=12)  \n",
    "plt.title(\"Age Distribuiton by Regions\", fontsize=14)\n",
    "plt.show()\n"
   ]
  },
  {
   "cell_type": "code",
   "execution_count": null,
   "id": "7050ba0a",
   "metadata": {},
   "outputs": [],
   "source": [
    "# Visualization for income /region crossbar\n",
    "crossbar_income_region_chart=crosstab_income_region.plot.bar(color=['red', 'blue', 'green', 'orange'])\n",
    "plt.ylabel(\"Number of Orders\", fontsize=12)\n",
    "plt.xlabel(\" \", fontsize=12)  \n",
    "plt.title(\"Income by Region\", fontsize=14)\n",
    "plt.show()\n"
   ]
  },
  {
   "cell_type": "code",
   "execution_count": null,
   "id": "68288b76",
   "metadata": {},
   "outputs": [],
   "source": [
    "# Visualization for dependants /region crossbar\n",
    "crossbar_dependants_region_chart=crosstab_dependants_region.plot.bar(color=['red', 'blue', 'green', 'orange'])\n",
    "plt.ylabel(\"Number of Orders\", fontsize=12)\n",
    "plt.xlabel(\" \", fontsize=12)  \n",
    "plt.title(\"Number of dependants by Region\", fontsize=14)\n",
    "plt.show()\n",
    "\n"
   ]
  },
  {
   "cell_type": "code",
   "execution_count": null,
   "id": "f458764e",
   "metadata": {},
   "outputs": [],
   "source": [
    "# Visualization for departments /region crossbar\n",
    "crossbar_departments_region_chart=crosstab_departments_region.plot.barh(color=['red', 'blue', 'green', 'orange'])\n",
    "plt.xlabel(\"Number of Records\", fontsize=10)\n",
    "plt.xticks(rotation=0)\n",
    "plt.ylabel(\" \", fontsize=10)  \n",
    "plt.title(\"Department products by Region\", fontsize=14)\n",
    "\n"
   ]
  },
  {
   "cell_type": "code",
   "execution_count": null,
   "id": "d6c6177a",
   "metadata": {},
   "outputs": [],
   "source": [
    "# Visualization for spending  /region crossbar\n",
    "crossbar_spending_region_chart=crosstab_spending_region.plot.bar(color=['red', 'blue', 'green', 'orange'])\n",
    "plt.ylabel(\"Number of Orders\", fontsize=12)\n",
    "plt.xlabel(\" \", fontsize=12)  \n",
    "plt.title(\"Spending by Region\", fontsize=14)\n",
    "plt.show()"
   ]
  },
  {
   "cell_type": "code",
   "execution_count": null,
   "id": "48e850da",
   "metadata": {},
   "outputs": [],
   "source": [
    "# Visualization for gender  /region crossbar\n",
    "crossbar_gender_region_chart=crosstab_gender_region.plot.bar(color=['red', 'blue', 'green', 'orange'])\n",
    "plt.ylabel(\"Number of Orders\", fontsize=12)\n",
    "plt.xlabel(\" \", fontsize=12)  \n",
    "plt.title(\"Gender by Region\", fontsize=14)\n",
    "plt.show()"
   ]
  },
  {
   "cell_type": "code",
   "execution_count": null,
   "id": "901c18bc",
   "metadata": {},
   "outputs": [],
   "source": [
    "# Visualization for Loyalty  /region crossbar\n",
    "crossbar_loyalty_region_chart=crosstab_loyalty_region.plot.bar(color=['red', 'blue', 'green', 'orange'])\n",
    "plt.ylabel(\"Number of Orders\", fontsize=12)\n",
    "plt.xlabel(\" \", fontsize=12)  \n",
    "plt.title(\"Loyalty by Region\", fontsize=14)\n",
    "plt.show()"
   ]
  },
  {
   "cell_type": "code",
   "execution_count": null,
   "id": "7a42dbb5",
   "metadata": {},
   "outputs": [],
   "source": [
    "# Visualization for age group /departments crossbar\n",
    "crossbar_age_department_chart=crosstab_Age_departments.plot.bar(color=['red', 'blue', 'green', 'orange'])\n",
    "plt.ylabel(\"Number of Orders\", fontsize=12)\n",
    "plt.xlabel(\" \", fontsize=12)  \n",
    "plt.title(\"Age Distribuiton by Departments\", fontsize=14)\n",
    "plt.show()"
   ]
  },
  {
   "cell_type": "code",
   "execution_count": null,
   "id": "c0d273d1",
   "metadata": {},
   "outputs": [],
   "source": [
    "# Visualization for income /departments crossbar\n",
    "crossbar_income_departments_chart=crosstab_income_departments.plot.bar(color=['red', 'blue', 'green', 'orange'])\n",
    "plt.ylabel(\"Number of Orders\", fontsize=12)\n",
    "plt.xlabel(\" \", fontsize=12)  \n",
    "plt.title(\"Income by Departments\", fontsize=14)\n",
    "plt.show()"
   ]
  },
  {
   "cell_type": "code",
   "execution_count": null,
   "id": "95ca2c30",
   "metadata": {},
   "outputs": [],
   "source": [
    "# Visualization for dependants /departments crossbar\n",
    "crossbar_dependants_departments_chart=crosstab_dependants_departments.plot.bar(color=['red', 'blue', 'green', 'orange'])\n",
    "plt.ylabel(\"Number of Orders\", fontsize=12)\n",
    "plt.xlabel(\" \", fontsize=12)  \n",
    "plt.title(\"Number of dependants by Departments\", fontsize=14)\n",
    "plt.show()\n"
   ]
  },
  {
   "cell_type": "code",
   "execution_count": null,
   "id": "8b95f687",
   "metadata": {},
   "outputs": [],
   "source": [
    "# Visualization for spending  /departments crossbar\n",
    "crossbar_spending_departments_chart=crosstab_spending_departments.plot.bar(color=['red', 'blue', 'green', 'orange'])\n",
    "plt.ylabel(\"Number of Orders\", fontsize=12)\n",
    "plt.xlabel(\" \", fontsize=12)  \n",
    "plt.title(\"Spending by Departments\", fontsize=14)\n",
    "plt.show()"
   ]
  },
  {
   "cell_type": "code",
   "execution_count": null,
   "id": "bd3c1c31",
   "metadata": {},
   "outputs": [],
   "source": [
    "# Visualization for gender  /departments crossbar\n",
    "crossbar_gender_departments_chart=crosstab_gender_departments.plot.bar(color=['red', 'blue', 'green', 'orange'])\n",
    "plt.ylabel(\"Number of Orders\", fontsize=12)\n",
    "plt.xlabel(\" \", fontsize=12)  \n",
    "plt.title(\"Gender by Departments\", fontsize=14)\n",
    "plt.show()"
   ]
  },
  {
   "cell_type": "code",
   "execution_count": null,
   "id": "2a82d84d",
   "metadata": {},
   "outputs": [],
   "source": [
    "# Visualization for loyalty /departments crossbar\n",
    "crossbar_loyalty_departments_chart=crosstab_loyalty_departments.plot.bar(color=['red', 'blue', 'green', 'orange'])\n",
    "plt.ylabel(\"Number of Orders\", fontsize=12)\n",
    "plt.xlabel(\" \", fontsize=12)  \n",
    "plt.title(\"Loyalty by Departments\", fontsize=14)\n",
    "plt.show()"
   ]
  },
  {
   "cell_type": "code",
   "execution_count": null,
   "id": "cdaf2465",
   "metadata": {},
   "outputs": [],
   "source": [
    "# Exporting charts\n",
    "crossbar_age_region_chart.figure.savefig(os.path.join(path, '04 Analysis','Visualizations', 'bar_age_region.png'))\n",
    "crossbar_income_region_chart.figure.savefig(os.path.join(path, '04 Analysis','Visualizations', 'bar_income_region.png'))\n",
    "crossbar_dependants_region_chart.figure.savefig(os.path.join(path, '04 Analysis','Visualizations', 'bar_dependants_region.png'))\n",
    "crossbar_spending_region_chart.figure.savefig(os.path.join(path, '04 Analysis','Visualizations', 'bar_spending_region.png'))\n",
    "crossbar_gender_region_chart.figure.savefig(os.path.join(path, '04 Analysis','Visualizations', 'bar_gender_region.png'))\n",
    "crossbar_loyalty_region_chart.figure.savefig(os.path.join(path, '04 Analysis','Visualizations', 'bar_loyalty_region.png'))\n",
    "crossbar_departments_region_chart.figure.savefig(os.path.join(path, '04 Analysis','Visualizations', 'bar_departments_region.png'))\n",
    "crossbar_income_departments_chart.figure.savefig(os.path.join(path, '04 Analysis','Visualizations', 'bar_income_departments.png'))\n",
    "crossbar_dependants_departments_chart.figure.savefig(os.path.join(path, '04 Analysis','Visualizations', 'bar_dependants_departments.png'))\n",
    "crossbar_spending_departments_chart.figure.savefig(os.path.join(path, '04 Analysis','Visualizations', 'bar_spending_departments.png'))\n",
    "crossbar_gender_departments_chart.figure.savefig(os.path.join(path, '04 Analysis','Visualizations', 'bar_gender_departments.png'))\n",
    "crossbar_loyalty_departments_chart.figure.savefig(os.path.join(path, '04 Analysis','Visualizations', 'bar_loyalty_departments.png'))"
   ]
  },
  {
   "cell_type": "code",
   "execution_count": null,
   "id": "72440218",
   "metadata": {},
   "outputs": [],
   "source": []
  }
 ],
 "metadata": {
  "kernelspec": {
   "display_name": "Python 3 (ipykernel)",
   "language": "python",
   "name": "python3"
  },
  "language_info": {
   "codemirror_mode": {
    "name": "ipython",
    "version": 3
   },
   "file_extension": ".py",
   "mimetype": "text/x-python",
   "name": "python",
   "nbconvert_exporter": "python",
   "pygments_lexer": "ipython3",
   "version": "3.11.5"
  }
 },
 "nbformat": 4,
 "nbformat_minor": 5
}
